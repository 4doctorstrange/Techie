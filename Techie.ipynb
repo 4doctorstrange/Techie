{
  "nbformat": 4,
  "nbformat_minor": 0,
  "metadata": {
    "colab": {
      "name": "Techie.ipynb",
      "provenance": [],
      "collapsed_sections": [],
      "authorship_tag": "ABX9TyOA0tCmfKMLVEouDQHxy296",
      "include_colab_link": true
    },
    "kernelspec": {
      "name": "python3",
      "display_name": "Python 3"
    }
  },
  "cells": [
    {
      "cell_type": "markdown",
      "metadata": {
        "id": "view-in-github",
        "colab_type": "text"
      },
      "source": [
        "<a href=\"https://colab.research.google.com/github/4doctorstrange/Techie/blob/main/Techie.ipynb\" target=\"_parent\"><img src=\"https://colab.research.google.com/assets/colab-badge.svg\" alt=\"Open In Colab\"/></a>"
      ]
    },
    {
      "cell_type": "code",
      "metadata": {
        "id": "rFZyMmJLkyrb",
        "outputId": "77512042-fb83-474e-b7e5-343d3173efe5",
        "colab": {
          "base_uri": "https://localhost:8080/"
        }
      },
      "source": [
        "#SOLUTION 1!\n",
        "arr=list(map(int,input().split()))\n",
        "ans=arr[:]\n",
        "n=len(arr)\n",
        "k=max(arr)\n",
        "for i in range(n): #THIS loop ensures all the occurences of max element is remove from array\n",
        "    if arr[i]==k:\n",
        "        ans.remove(k)  #removing maximum element from array or it could also be set to 0 or negative value\n",
        "print(max(ans))"
      ],
      "execution_count": null,
      "outputs": [
        {
          "output_type": "stream",
          "text": [
            "2 3 2 32 4\n",
            "4\n"
          ],
          "name": "stdout"
        }
      ]
    },
    {
      "cell_type": "code",
      "metadata": {
        "id": "zU8yyZQWlVZv",
        "outputId": "14281381-cf17-4927-efdd-9e802b010519",
        "colab": {
          "base_uri": "https://localhost:8080/"
        }
      },
      "source": [
        "#Solution 2:\n",
        "def checkprime(n):\n",
        "  if n==1:           #One is not prime\n",
        "    return \"FALSE\"\n",
        "  if n==2 or n==3:   #two and three are prime\n",
        "    return \"TRUE\"\n",
        "  if n%2==0:         #multiples of 2 can never be prime\n",
        "    return \"FALSE\"\n",
        "  for i in range(3,n):    #any number that divides n can never be prime except n itself.\n",
        "    if n%i==0:\n",
        "      return \"FALSE\"\n",
        "  return \"TRUE\"\n",
        "\n",
        "n=int(input())\n",
        "print(checkprime(n))"
      ],
      "execution_count": null,
      "outputs": [
        {
          "output_type": "stream",
          "text": [
            "29\n",
            "TRUE\n"
          ],
          "name": "stdout"
        }
      ]
    }
  ]
}